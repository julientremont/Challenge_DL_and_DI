{
 "cells": [
  {
   "cell_type": "code",
   "execution_count": null,
   "id": "f01ddd81",
   "metadata": {},
   "outputs": [],
   "source": [
    "from pyspark.sql import SparkSession\n",
    "from pyspark.sql.functions import *\n",
    "import os\n",
    "\n",
    "spark = SparkSession.builder \\\n",
    "    .appName(\"StackOverflow Survey Analysis\") \\\n",
    "    .getOrCreate()\n",
    "\n",
    "def load_csvs():\n",
    "    dfs = {}\n",
    "    \n",
    "    for i in range(20, 25):\n",
    "        file_path = f'../bronze/stack_overflow_data/survey_results_public{i}.csv'\n",
    "        try:\n",
    "            df = spark.read.option(\"header\", \"true\") \\\n",
    "                         .option(\"inferSchema\", \"true\") \\\n",
    "                         .csv(file_path)\n",
    "            \n",
    "            dfs[f'df_{i}'] = df\n",
    "            \n",
    "            print(f'Successfully loaded data for year 20{i}')\n",
    "            print(f'Number of rows and columns in df_{i}: {(df.count(), len(df.columns))}')\n",
    "            print(f'Preview of df_{i}:')\n",
    "            df.show(5, truncate=False)\n",
    "            print('\\n' + '-'*50 + '\\n')\n",
    "            \n",
    "        except Exception as e:\n",
    "            print(f'Warning: Error loading file {file_path}: {str(e)}')\n",
    "    \n",
    "    return dfs\n"
   ]
  },
  {
   "cell_type": "code",
   "execution_count": null,
   "id": "c1ba7f54",
   "metadata": {},
   "outputs": [
    {
     "name": "stdout",
     "output_type": "stream",
     "text": [
      "Requirement already satisfied: pyspark in c:\\users\\dell\\appdata\\local\\programs\\python\\python310\\lib\\site-packages (3.4.0)\n",
      "Requirement already satisfied: py4j==0.10.9.7 in c:\\users\\dell\\appdata\\local\\programs\\python\\python310\\lib\\site-packages (from pyspark) (0.10.9.7)\n",
      "Note: you may need to restart the kernel to use updated packages.\n"
     ]
    },
    {
     "name": "stderr",
     "output_type": "stream",
     "text": [
      "WARNING: You are using pip version 21.2.3; however, version 25.1.1 is available.\n",
      "You should consider upgrading via the 'c:\\Users\\dell\\AppData\\Local\\Programs\\Python\\Python310\\python.exe -m pip install --upgrade pip' command.\n"
     ]
    }
   ],
   "source": []
  },
  {
   "cell_type": "code",
   "execution_count": 9,
   "id": "5bb8ce01",
   "metadata": {},
   "outputs": [
    {
     "name": "stdout",
     "output_type": "stream",
     "text": [
      "Warning: Error loading file challenge_dl_and_di/src/bronze/stack_overflow_data/survey_results_public20.csv: [PATH_NOT_FOUND] Path does not exist: file:/c:/Users/dell/Desktop/Challenge_DL_and_DI/src/silver/challenge_dl_and_di/src/bronze/stack_overflow_data/survey_results_public20.csv.\n",
      "Warning: Error loading file challenge_dl_and_di/src/bronze/stack_overflow_data/survey_results_public21.csv: [PATH_NOT_FOUND] Path does not exist: file:/c:/Users/dell/Desktop/Challenge_DL_and_DI/src/silver/challenge_dl_and_di/src/bronze/stack_overflow_data/survey_results_public21.csv.\n",
      "Warning: Error loading file challenge_dl_and_di/src/bronze/stack_overflow_data/survey_results_public22.csv: [PATH_NOT_FOUND] Path does not exist: file:/c:/Users/dell/Desktop/Challenge_DL_and_DI/src/silver/challenge_dl_and_di/src/bronze/stack_overflow_data/survey_results_public22.csv.\n",
      "Warning: Error loading file challenge_dl_and_di/src/bronze/stack_overflow_data/survey_results_public23.csv: [PATH_NOT_FOUND] Path does not exist: file:/c:/Users/dell/Desktop/Challenge_DL_and_DI/src/silver/challenge_dl_and_di/src/bronze/stack_overflow_data/survey_results_public23.csv.\n",
      "Warning: Error loading file challenge_dl_and_di/src/bronze/stack_overflow_data/survey_results_public24.csv: [PATH_NOT_FOUND] Path does not exist: file:/c:/Users/dell/Desktop/Challenge_DL_and_DI/src/silver/challenge_dl_and_di/src/bronze/stack_overflow_data/survey_results_public24.csv.\n"
     ]
    },
    {
     "data": {
      "text/plain": [
       "{}"
      ]
     },
     "execution_count": 9,
     "metadata": {},
     "output_type": "execute_result"
    }
   ],
   "source": [
    "load_csvs()"
   ]
  },
  {
   "cell_type": "code",
   "execution_count": null,
   "id": "fff9408a",
   "metadata": {},
   "outputs": [],
   "source": []
  }
 ],
 "metadata": {
  "kernelspec": {
   "display_name": "Python 3",
   "language": "python",
   "name": "python3"
  },
  "language_info": {
   "codemirror_mode": {
    "name": "ipython",
    "version": 3
   },
   "file_extension": ".py",
   "mimetype": "text/x-python",
   "name": "python",
   "nbconvert_exporter": "python",
   "pygments_lexer": "ipython3",
   "version": "3.10.0"
  }
 },
 "nbformat": 4,
 "nbformat_minor": 5
}
